{
  "nbformat": 4,
  "nbformat_minor": 0,
  "metadata": {
    "colab": {
      "name": "encoding analysis",
      "provenance": [],
      "collapsed_sections": []
    },
    "kernelspec": {
      "name": "python3",
      "display_name": "Python 3"
    },
    "language_info": {
      "name": "python"
    },
    "accelerator": "GPU"
  },
  "cells": [
    {
      "cell_type": "markdown",
      "metadata": {
        "id": "5c7B0YXz6MZe"
      },
      "source": [
        "Analysing encoding Timing Inception Resnet model and face_recognition model(ResNet)"
      ]
    },
    {
      "cell_type": "code",
      "metadata": {
        "id": "CdUk-d4doCuN"
      },
      "source": [
        "import numpy as np\n",
        "\n",
        "from keras.models import Sequential\n",
        "from keras.models import load_model\n",
        "from keras.models import model_from_json\n",
        "from keras.layers.core import Dense, Activation\n",
        "from keras.utils import np_utils\n",
        "\n",
        "from keras.preprocessing.image import load_img, save_img, img_to_array\n",
        "from keras.applications.imagenet_utils import preprocess_input\n",
        "\n",
        "import matplotlib.pyplot as plt\n",
        "from keras.preprocessing import image\n",
        "import time"
      ],
      "execution_count": 29,
      "outputs": []
    },
    {
      "cell_type": "code",
      "metadata": {
        "id": "pv3DWmzs7E_9"
      },
      "source": [
        "try:\n",
        "  import face_recognition\n",
        "except ModuleNotFoundError:\n",
        "  !pip install face_recognition\n",
        "  import face_recognition"
      ],
      "execution_count": 30,
      "outputs": []
    },
    {
      "cell_type": "code",
      "metadata": {
        "id": "_CbQgZHRoDMq"
      },
      "source": [
        "from inception_resnet import *\n",
        "model = InceptionResNetV1()"
      ],
      "execution_count": 31,
      "outputs": []
    },
    {
      "cell_type": "code",
      "metadata": {
        "id": "QsPBkWI8ytla"
      },
      "source": [
        "def l2_normalize(x):\n",
        "  return x / np.sqrt(np.sum(np.multiply(x, x)))\n",
        "\n",
        "def preprocess_image(image_path):\n",
        "  img = load_img(image_path, target_size=(160, 160))\n",
        "  img = img_to_array(img)\n",
        "  img = np.expand_dims(img, axis=0)\n",
        "  img = preprocess_input(img)\n",
        "  return img\n",
        "\n",
        "def findCosineSimilarity(source_representation, test_representation):\n",
        "    a = np.matmul(np.transpose(source_representation), test_representation)\n",
        "    b = np.sum(np.multiply(source_representation, source_representation))\n",
        "    c = np.sum(np.multiply(test_representation, test_representation))\n",
        "    return 1 - (a / (np.sqrt(b) * np.sqrt(c)))\n",
        "\n",
        "def findEuclideanDistance(source_representation, test_representation):\n",
        "    euclidean_distance = source_representation - test_representation\n",
        "    euclidean_distance = np.sum(np.multiply(euclidean_distance, euclidean_distance))\n",
        "    euclidean_distance = np.sqrt(euclidean_distance)\n",
        "    return euclidean_distance\n",
        "\n"
      ],
      "execution_count": 32,
      "outputs": []
    },
    {
      "cell_type": "code",
      "metadata": {
        "id": "E81pwrd6zyFD"
      },
      "source": [
        "img = face_recognition.load_image_file(\"1cimg.jpg\")\n"
      ],
      "execution_count": 33,
      "outputs": []
    },
    {
      "cell_type": "code",
      "metadata": {
        "colab": {
          "base_uri": "https://localhost:8080/"
        },
        "id": "B3fRo7wvy1nn",
        "outputId": "4117f67d-46e8-4270-e8d7-72ef40f34b89"
      },
      "source": [
        "print(\"Time Required by face_recognition module:\")\n",
        "X_face_locations = face_recognition.face_locations(img)\n",
        "start = time.time()\n",
        "faces_encodings = face_recognition.face_encodings(img, known_face_locations=X_face_locations)\n",
        "print(time.time() - start)"
      ],
      "execution_count": 34,
      "outputs": [
        {
          "output_type": "stream",
          "name": "stdout",
          "text": [
            "0.00015974044799804688\n"
          ]
        }
      ]
    },
    {
      "cell_type": "code",
      "metadata": {
        "id": "8h50azhwy7Rk",
        "colab": {
          "base_uri": "https://localhost:8080/"
        },
        "outputId": "2ab617a1-21ba-4f66-d94b-daf75195af48"
      },
      "source": [
        "print(\"Time required by custom inception resnet model\")\n",
        "start = time.time()\n",
        "img1_representation = l2_normalize(model.predict(preprocess_image('1cimg.jpg'))[0,:])\n",
        "print(time.time() - start)\n",
        "\n"
      ],
      "execution_count": 35,
      "outputs": [
        {
          "output_type": "stream",
          "name": "stdout",
          "text": [
            "2.501553535461426\n"
          ]
        }
      ]
    },
    {
      "cell_type": "markdown",
      "metadata": {
        "id": "eK_b9p0n73z0"
      },
      "source": [
        "Thus we can see that Face_recognition module is faster, so we will be using that for our facial encoding model"
      ]
    }
  ]
}