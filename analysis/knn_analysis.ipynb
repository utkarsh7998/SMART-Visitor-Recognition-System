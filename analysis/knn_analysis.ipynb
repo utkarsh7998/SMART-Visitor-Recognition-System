{
 "cells": [
  {
   "cell_type": "markdown",
   "metadata": {},
   "source": [
    "Importing Required Packages"
   ]
  },
  {
   "cell_type": "code",
   "execution_count": 1,
   "metadata": {},
   "outputs": [],
   "source": [
    "import math\n",
    "from sklearn import neighbors\n",
    "import os\n",
    "import os.path\n",
    "import pickle\n",
    "import face_recognition\n",
    "import math\n",
    "from sklearn.metrics import confusion_matrix\n",
    "import seaborn as sns\n",
    "from sklearn.metrics import accuracy_score\n",
    "\n",
    "ALLOWED_EXTENSIONS = {'png', 'jpg', 'pgm'}"
   ]
  },
  {
   "cell_type": "markdown",
   "metadata": {},
   "source": [
    "Function to train the model"
   ]
  },
  {
   "cell_type": "code",
   "execution_count": 2,
   "metadata": {},
   "outputs": [],
   "source": [
    "def training_knn(training_dir, model_dest_path=None, no_of_neighbors=None, knn_algo='ball_tree'):\n",
    "    X = []\n",
    "    y = []\n",
    "\n",
    "\n",
    "\n",
    "    # looping each person of training set\n",
    "    for class_dir in os.listdir(training_dir):\n",
    "        print(f\"Processing Person:{class_dir}\")\n",
    "        if not os.path.isdir(os.path.join(training_dir, class_dir)):\n",
    "            continue\n",
    "\n",
    "        # looping through each image of person\n",
    "        for img_path in os.listdir(os.path.join(training_dir, class_dir)):\n",
    "            if os.path.splitext(img_path)[1][1:] not in ALLOWED_EXTENSIONS:\n",
    "                continue\n",
    "            image = face_recognition.load_image_file(os.path.join(training_dir,class_dir,img_path))\n",
    "            face_bounding_boxes = face_recognition.face_locations(image)\n",
    "\n",
    "            if len(face_bounding_boxes) != 1:\n",
    "                # either no or many person\n",
    "                continue\n",
    "            else:\n",
    "                # Add face encoding for current image to the training set\n",
    "                X.append(face_recognition.face_encodings(image, known_face_locations=face_bounding_boxes)[0])\n",
    "                y.append(class_dir)\n",
    "\n",
    "    # taking sq of training set as n neighbors \n",
    "    if no_of_neighbors is None:\n",
    "        no_of_neighbors = int(round(math.sqrt(len(X))))\n",
    "\n",
    "\n",
    "    # Training the knn classifier\n",
    "    knn_classifier = neighbors.KNeighborsClassifier(n_neighbors=no_of_neighbors, algorithm=knn_algo, weights='distance')\n",
    "    knn_classifier.fit(X, y)\n",
    "\n",
    "    # Save the trained KNN classifier\n",
    "    if model_dest_path is not None:\n",
    "        with open(model_dest_path, 'wb') as f:\n",
    "            pickle.dump(knn_classifier, f)\n",
    "\n",
    "    return knn_classifier\n"
   ]
  },
  {
   "cell_type": "markdown",
   "metadata": {},
   "source": [
    "Function to make predictions given image path using the trained model"
   ]
  },
  {
   "cell_type": "code",
   "execution_count": 3,
   "metadata": {},
   "outputs": [],
   "source": [
    "def predict_knn(img_path, knn_classifier=None, model_path=None, distance_threshold=0.5) :\n",
    "\n",
    "    if not os.path.isfile(img_path) or os.path.splitext(img_path)[1][1:] not in ALLOWED_EXTENSIONS:\n",
    "        raise Exception(\"Invalid image path: {}\".format(img_path))\n",
    "\n",
    "\n",
    "    if knn_classifier is None and model_path is None:\n",
    "        raise Exception(\"No KNN classifier passed\")\n",
    "\n",
    "    # Load a trained KNN model (if one was passed in)\n",
    "    if knn_classifier is None:\n",
    "        with open(model_path, 'rb') as f:\n",
    "            knn_classifier = pickle.load(f)\n",
    "\n",
    "    frame = face_recognition.load_image_file(img_path)\n",
    "    face_locations = face_recognition.face_locations(frame)\n",
    "\n",
    "    # no face detected case\n",
    "    if len(face_locations) == 0:\n",
    "        return []\n",
    "\n",
    "    # Find encodings for faces in the test image\n",
    "    faces_encodings = face_recognition.face_encodings(frame, known_face_locations=face_locations)\n",
    "\n",
    "    # Use the KNN model to find the best matches for the test face\n",
    "    closest_distances = knn_classifier.kneighbors(faces_encodings, n_neighbors=1)\n",
    "    are_matches = [closest_distances[0][i][0] <= distance_threshold for i in range(len(face_locations))]\n",
    "\n",
    "    # Predict classes and remove classifications that aren't within the threshold\n",
    "    return [(pred, loc) if rec else (\"unknown\", loc) for pred, loc, rec in zip(knn_classifier.predict(faces_encodings), face_locations, are_matches)]\n"
   ]
  },
  {
   "cell_type": "code",
   "execution_count": 4,
   "metadata": {},
   "outputs": [],
   "source": [
    "def test(test_dir, model_path):\n",
    "    y_pred = []\n",
    "    y_act = []\n",
    "    for class_dir in os.listdir(test_dir):\n",
    "        print(f\"Processing Person:{class_dir}\")\n",
    "        if not os.path.isdir(os.path.join(test_dir, class_dir)):\n",
    "            continue\n",
    "\n",
    "        for img_path in os.listdir(os.path.join(test_dir, class_dir)):\n",
    "            img_file = os.path.join(test_dir, class_dir,img_path)\n",
    "            if os.path.splitext(img_path)[1][1:] not in ALLOWED_EXTENSIONS:\n",
    "                continue\n",
    "\n",
    "            prediction = predict_knn(img_file, model_path=model_path,distance_threshold=500)\n",
    "            y_act.append(class_dir)\n",
    "            if len(prediction) == 0:\n",
    "                y_pred.append(\"unknown\")\n",
    "                continue\n",
    "                \n",
    "            y_pred.append(prediction[0][0])\n",
    "\n",
    "    return y_pred, y_act"
   ]
  },
  {
   "cell_type": "code",
   "execution_count": 5,
   "metadata": {},
   "outputs": [
    {
     "name": "stdout",
     "output_type": "stream",
     "text": [
      "Processing Person:yaleB11\n",
      "Processing Person:yaleB12\n",
      "Processing Person:yaleB13\n",
      "Processing Person:yaleB15\n",
      "Processing Person:yaleB16\n",
      "Processing Person:yaleB17\n",
      "Processing Person:yaleB18\n",
      "Processing Person:yaleB19\n",
      "Processing Person:yaleB20\n",
      "Processing Person:yaleB21\n"
     ]
    }
   ],
   "source": [
    "# Training the knn classifier and saving it too\n",
    "knn_clf = training_knn(\"train\",\"analysis_knn.clf\")\n"
   ]
  },
  {
   "cell_type": "code",
   "execution_count": 6,
   "metadata": {},
   "outputs": [
    {
     "name": "stdout",
     "output_type": "stream",
     "text": [
      "yaleB11\n",
      "yaleB12\n",
      "yaleB13\n",
      "yaleB15\n",
      "yaleB16\n",
      "yaleB17\n",
      "yaleB18\n",
      "yaleB19\n",
      "yaleB20\n",
      "yaleB21\n"
     ]
    }
   ],
   "source": [
    "# making predictions on test set\n",
    "y_pred, y_act = test(\"test\", model_path=\"analysis_knn.clf\")"
   ]
  },
  {
   "cell_type": "code",
   "execution_count": 7,
   "metadata": {},
   "outputs": [
    {
     "name": "stdout",
     "output_type": "stream",
     "text": [
      "Accuracy of the model is 0.945\n",
      "Visualizing the confusion matrix\n"
     ]
    },
    {
     "data": {
      "text/plain": [
       "<AxesSubplot:>"
      ]
     },
     "execution_count": 7,
     "metadata": {},
     "output_type": "execute_result"
    },
    {
     "data": {
      "image/png": "[encoded data removed]",
      "text/plain": [
       "<Figure size 432x288 with 2 Axes>"
      ]
     },
     "metadata": {
      "needs_background": "light"
     },
     "output_type": "display_data"
    }
   ],
   "source": [
    "print(\"Accuracy of the model is\",accuracy_score(y_act, y_pred))\n",
    "\n",
    "print(\"Visualizing the confusion matrix\")\n",
    "conf = confusion_matrix(y_act, y_pred)\n",
    "sns.heatmap(conf, annot=True, cmap=\"YlGnBu\")"
   ]
  }
 ],
 "metadata": {
  "interpreter": {
   "hash": "6c15b6fbfedcdf0784f9088ccebaf160a9e33f62bfcab5d0151de8aafe12dd7b"
  },
  "kernelspec": {
   "display_name": "Python 3.8.8 64-bit ('base': conda)",
   "language": "python",
   "name": "python3"
  },
  "language_info": {
   "codemirror_mode": {
    "name": "ipython",
    "version": 3
   },
   "file_extension": ".py",
   "mimetype": "text/x-python",
   "name": "python",
   "nbconvert_exporter": "python",
   "pygments_lexer": "ipython3",
   "version": "3.8.8"
  },
  "orig_nbformat": 4
 },
 "nbformat": 4,
 "nbformat_minor": 2
}
