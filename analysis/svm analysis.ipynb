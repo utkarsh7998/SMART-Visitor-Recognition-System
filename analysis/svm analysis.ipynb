{
 "cells": [
  {
   "cell_type": "code",
   "execution_count": 1,
   "metadata": {},
   "outputs": [],
   "source": [
    "import face_recognition\n",
    "from sklearn import svm\n",
    "import os\n",
    "import pickle\n",
    "from sklearn.metrics import confusion_matrix\n",
    "import seaborn as sns\n",
    "from sklearn.metrics import accuracy_score\n",
    "\n",
    "ALLOWED_EXTENSIONS = {'png', 'jpg', 'pgm'}"
   ]
  },
  {
   "cell_type": "code",
   "execution_count": 2,
   "metadata": {},
   "outputs": [],
   "source": [
    "def training_svm(training_dir, model_dest_path):\n",
    "    X=[]\n",
    "    Y=[]\n",
    "    for class_dir in os.listdir(training_dir):\n",
    "        print(f\"Processing Person:{class_dir}\")\n",
    "        if not os.path.isdir(os.path.join(training_dir, class_dir)):\n",
    "            continue\n",
    "        for img_path in os.listdir(os.path.join(training_dir, class_dir)):\n",
    "            if os.path.splitext(img_path)[1][1:] not in ALLOWED_EXTENSIONS:\n",
    "                continue\n",
    "\n",
    "            image = face_recognition.load_image_file(os.path.join(training_dir,class_dir,img_path))\n",
    "            face_bounding_boxes = face_recognition.face_locations(image)\n",
    "\n",
    "\n",
    "            #If training image contains exactly one face\n",
    "            if len(face_bounding_boxes) == 1:\n",
    "                face_enc = face_recognition.face_encodings(image, known_face_locations=face_bounding_boxes)[0]\n",
    "                # Add face encoding for current image and label\n",
    "                X.append(face_enc)\n",
    "                Y.append(class_dir)\n",
    "                #print(f\"{class_dir}Adding\")\n",
    "            else:\n",
    "                # Case when not one face\n",
    "                pass\n",
    "                #print(f\"{class_dir} was skipped and can't be used for training\")\n",
    "\n",
    "    # training the SVC classifier\n",
    "    svm_classifier = svm.SVC(gamma='scale',probability=True)\n",
    "    svm_classifier.fit(X,Y)\n",
    "    if model_dest_path is not None:\n",
    "        with open(model_dest_path, 'wb') as f:\n",
    "            pickle.dump(svm_classifier, f)\n",
    "    return svm_classifier"
   ]
  },
  {
   "cell_type": "code",
   "execution_count": 3,
   "metadata": {},
   "outputs": [],
   "source": [
    "def predict_svm(img_path, svm_classifier=None, model_path=None):\n",
    "\n",
    "    if not os.path.isfile(img_path) or os.path.splitext(img_path)[1][1:] not in ALLOWED_EXTENSIONS:\n",
    "        raise Exception(\"Invalid image path: {}\".format(img_path))\n",
    "\n",
    "    if svm_classifier is None and model_path is None:\n",
    "        raise Exception(\"No SVM Classifier passed\")\n",
    "\n",
    "    # Loading svm model\n",
    "    if svm_classifier is None:\n",
    "        with open(model_path, 'rb') as f:\n",
    "            svm_classifier = pickle.load(f)\n",
    "\n",
    "    frame = face_recognition.load_image_file(img_path)\n",
    "    face_locations = face_recognition.face_locations(frame)\n",
    "\n",
    "    # case no faces are found\n",
    "    if len(face_locations) == 0:\n",
    "        return [(['Unknown'],[face_locations])]\n",
    "\n",
    "    # find encodings for faces \n",
    "    faces_encodings = face_recognition.face_encodings(frame, known_face_locations=face_locations)[0]\n",
    "    # Use the SVM model to find the best matches for the test face\n",
    "    name=svm_classifier.predict([faces_encodings])\n",
    "    probability=svm_classifier.predict_proba([faces_encodings])\n",
    "    if max(probability[0])>0.85 :\n",
    "        return [(name,face_locations)]\n",
    "    else :\n",
    "        return [(['Unknown'],face_locations)]\n"
   ]
  },
  {
   "cell_type": "code",
   "execution_count": 4,
   "metadata": {},
   "outputs": [],
   "source": [
    "def test(test_dir, model_path):\n",
    "    y_pred = []\n",
    "    y_act = []\n",
    "    for class_dir in os.listdir(test_dir):\n",
    "        print(f\"Processing Person:{class_dir}\")\n",
    "        if not os.path.isdir(os.path.join(test_dir, class_dir)):\n",
    "            continue\n",
    "\n",
    "        for img_path in os.listdir(os.path.join(test_dir, class_dir)):\n",
    "            img_file = os.path.join(test_dir, class_dir,img_path)\n",
    "            if os.path.splitext(img_path)[1][1:] not in ALLOWED_EXTENSIONS:\n",
    "                continue\n",
    "\n",
    "            prediction = predict_svm(img_file, model_path=model_path)\n",
    "            y_act.append(class_dir)\n",
    "            if len(prediction) == 0:\n",
    "                y_pred.append(\"unknown\")\n",
    "                continue\n",
    "                \n",
    "            y_pred.append(prediction[0][0][0])\n",
    "\n",
    "    return y_pred, y_act\n",
    "\n",
    "            "
   ]
  },
  {
   "cell_type": "code",
   "execution_count": 5,
   "metadata": {},
   "outputs": [
    {
     "name": "stdout",
     "output_type": "stream",
     "text": [
      "Processing Person:yaleB11\n",
      "Processing Person:yaleB12\n",
      "Processing Person:yaleB13\n",
      "Processing Person:yaleB15\n",
      "Processing Person:yaleB16\n",
      "Processing Person:yaleB17\n",
      "Processing Person:yaleB18\n",
      "Processing Person:yaleB19\n",
      "Processing Person:yaleB20\n",
      "Processing Person:yaleB21\n"
     ]
    }
   ],
   "source": [
    "# Training the svm classifier and saving it too\n",
    "clf = training_svm(\"train\", \"svm.clf\")\n"
   ]
  },
  {
   "cell_type": "code",
   "execution_count": 6,
   "metadata": {},
   "outputs": [
    {
     "name": "stdout",
     "output_type": "stream",
     "text": [
      "Processing Person:yaleB11\n",
      "Processing Person:yaleB12\n",
      "Processing Person:yaleB13\n",
      "Processing Person:yaleB15\n",
      "Processing Person:yaleB16\n",
      "Processing Person:yaleB17\n",
      "Processing Person:yaleB18\n",
      "Processing Person:yaleB19\n",
      "Processing Person:yaleB20\n",
      "Processing Person:yaleB21\n"
     ]
    }
   ],
   "source": [
    "# Making predictions on the test set\n",
    "y_pred, y_act = test(\"test\", model_path=\"analysis_knn.clf\")"
   ]
  },
  {
   "cell_type": "code",
   "execution_count": 7,
   "metadata": {},
   "outputs": [
    {
     "name": "stdout",
     "output_type": "stream",
     "text": [
      "Accuracy of the model is 0.93\n",
      "Visualizing the confusion matrix\n"
     ]
    },
    {
     "data": {
      "text/plain": [
       "<AxesSubplot:>"
      ]
     },
     "execution_count": 7,
     "metadata": {},
     "output_type": "execute_result"
    },
    {
     "data": {
      "image/png": "[encoded data removed]",
      "text/plain": [
       "<Figure size 432x288 with 2 Axes>"
      ]
     },
     "metadata": {
      "needs_background": "light"
     },
     "output_type": "display_data"
    }
   ],
   "source": [
    "print(\"Accuracy of the model is\",accuracy_score(y_act, y_pred))\n",
    "\n",
    "print(\"Visualizing the confusion matrix\")\n",
    "conf = confusion_matrix(y_act, y_pred)\n",
    "sns.heatmap(conf, annot=True, cmap=\"YlGnBu\")"
   ]
  }
 ],
 "metadata": {
  "interpreter": {
   "hash": "6c15b6fbfedcdf0784f9088ccebaf160a9e33f62bfcab5d0151de8aafe12dd7b"
  },
  "kernelspec": {
   "display_name": "Python 3.8.8 64-bit ('base': conda)",
   "language": "python",
   "name": "python3"
  },
  "language_info": {
   "codemirror_mode": {
    "name": "ipython",
    "version": 3
   },
   "file_extension": ".py",
   "mimetype": "text/x-python",
   "name": "python",
   "nbconvert_exporter": "python",
   "pygments_lexer": "ipython3",
   "version": "3.8.8"
  },
  "orig_nbformat": 4
 },
 "nbformat": 4,
 "nbformat_minor": 2
}
